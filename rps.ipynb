{
 "cells": [
  {
   "cell_type": "code",
   "execution_count": 1,
   "id": "d8bd4092",
   "metadata": {},
   "outputs": [
    {
     "name": "stdout",
     "output_type": "stream",
     "text": [
      "Hello and welcome to rock, paper, scissors!\n",
      "\n",
      "You picked: rock\n",
      "Computer picked: rock\n",
      "It's a tie!\n"
     ]
    }
   ],
   "source": [
    "import random\n",
    "\n",
    "choices = ['rock', 'paper', 'scissors']\n",
    "\n",
    "print( \"Hello and welcome to rock, paper, scissors!\" )\n",
    "\n",
    "player_choice = input( \"Please enter your choice between rock, paper, or scissors\" ).lower()\n",
    "\n",
    "# loop until player choice matches one of the choices in choices list\n",
    "while player_choice not in choices:\n",
    "  print(\"Invalid choice. Please enter 'rock', 'paper', or 'scissors'.\")\n",
    "  player_choice = input(\"Your choice: \").lower()\n",
    "\n",
    "cpu_choice = random.choice(choices)\n",
    "\n",
    "print(f\"\\nYou picked: {player_choice}\")\n",
    "print(f\"Computer picked: {cpu_choice}\")\n",
    "\n",
    "\"\"\"\n",
    "User Win Conditions\n",
    "\n",
    "Python doesnt use the || operator, it uses 'or' instead.  I hate it.\n",
    "\"\"\"\n",
    "\n",
    "if player_choice == cpu_choice:\n",
    "  print( \"It's a tie!\" )\n",
    "elif (( player_choice == 'rock' and cpu_choice == 'scissors' ) or \n",
    "     ( player_choice == 'paper' and cpu_choice == 'rock' ) or \n",
    "     ( player_choice == 'scissors' and cpu_choice == 'paper' )):\n",
    "  print(\"Player Wins!\")\n",
    "else:\n",
    "  print(\"Computer Wins\")"
   ]
  }
 ],
 "metadata": {
  "kernelspec": {
   "display_name": "Python 3",
   "language": "python",
   "name": "python3"
  },
  "language_info": {
   "codemirror_mode": {
    "name": "ipython",
    "version": 3
   },
   "file_extension": ".py",
   "mimetype": "text/x-python",
   "name": "python",
   "nbconvert_exporter": "python",
   "pygments_lexer": "ipython3",
   "version": "3.13.5"
  }
 },
 "nbformat": 4,
 "nbformat_minor": 5
}
